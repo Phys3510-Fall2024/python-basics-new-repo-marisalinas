{
 "cells": [
  {
   "cell_type": "markdown",
   "id": "54fc8c99-2694-42fb-88f9-dfb0f622bfb3",
   "metadata": {},
   "source": [
    "#creating directory??\n",
    "\n",
    "#$f = c/\\lambda$ : the linear frequency is related to the wavelength, $\\lambda$, by the speed of light, $c$. \n",
    "\n",
    "#$\\omega = c k$ : the angular frequency is related to the angular wavevector/wavenumber, $k$, by the speed of light. \n",
    "\n",
    "#$\\lambda/T = c$ : here $T$ is the period.  \n",
    "\n",
    "#$E = h f = \\hbar \\omega = \\hbar c k $ : here $h$ is Planck's constant and $\\hbar$ is the reduced Planck's constant.  \n",
    "\n",
    "#$k = 2 \\pi \\nu$ : $\\nu$ is the linear wavenumber.  "
   ]
  },
  {
   "cell_type": "code",
   "execution_count": 2,
   "id": "2439c9cf-efea-4297-ac19-eb97bbeeda4d",
   "metadata": {},
   "outputs": [
    {
     "name": "stdout",
     "output_type": "stream",
     "text": [
      "Conversion not supported.\n"
     ]
    }
   ],
   "source": [
    "# Conversion factors and inverse relationship flag\n",
    "conversion_factors = {\n",
    "    (\"THz\", \"ps\"): (1, True),                # Linear Frequency to Period (inverse; T=1/f)\n",
    "    (\"ps\", \"THz\"): (1, True),                # Period to Linear Frequency (inverse; f=1/T)\n",
    "    (\"THz\", \"cm-1\"): (33.356, False),        # Linear Frequency to Linear Wavenumber (k = f/c)\n",
    "    (\"THz\", \"um\"): (300, True),              #THZ to microns (added)\n",
    "    (\"THz\",\"Hz\"): (10^12, True),\n",
    "\n",
    "}\n",
    "\n",
    "# Example of how to access the dictionary\n",
    "# Let's say we want to convert from THz to ps\n",
    "conversion_key = (\"THz\", \"nm\")\n",
    "\n",
    "if conversion_key in conversion_factors:\n",
    "    factor, is_inverse = conversion_factors[conversion_key]\n",
    "    print(f\"Conversion factor: {factor}\")\n",
    "    print(f\"Is inverse relationship: {is_inverse}\")\n",
    "else:\n",
    "    print(\"Conversion not supported.\")"
   ]
  }
 ],
 "metadata": {
  "kernelspec": {
   "display_name": "Python 3 (ipykernel)",
   "language": "python",
   "name": "python3"
  },
  "language_info": {
   "codemirror_mode": {
    "name": "ipython",
    "version": 3
   },
   "file_extension": ".py",
   "mimetype": "text/x-python",
   "name": "python",
   "nbconvert_exporter": "python",
   "pygments_lexer": "ipython3",
   "version": "3.9.19"
  }
 },
 "nbformat": 4,
 "nbformat_minor": 5
}
